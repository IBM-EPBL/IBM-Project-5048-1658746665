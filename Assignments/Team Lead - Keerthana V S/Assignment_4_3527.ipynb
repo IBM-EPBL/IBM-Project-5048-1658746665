{
  "nbformat": 4,
  "nbformat_minor": 0,
  "metadata": {
    "colab": {
      "provenance": []
    },
    "kernelspec": {
      "name": "python3",
      "display_name": "Python 3"
    },
    "language_info": {
      "name": "python"
    }
  },
  "cells": [
    {
      "cell_type": "code",
      "execution_count": 44,
      "metadata": {
        "id": "WJLQnSBP-jiq"
      },
      "outputs": [],
      "source": [
        "import pandas as pd\n",
        "import numpy as np\n",
        "import matplotlib.pyplot as plt\n",
        "%matplotlib inline\n",
        "import seaborn as sns\n",
        "\n",
        "from nltk import word_tokenize\n",
        "\n",
        "from sklearn.model_selection import train_test_split\n",
        "from sklearn.preprocessing import LabelEncoder\n",
        "\n",
        "import keras\n",
        "from keras.models import Model, load_model\n",
        "from keras.layers import LSTM, Activation, Dense, Dropout, Input, Embedding\n",
        "from keras.optimizers import RMSprop\n",
        "from keras.preprocessing.text import Tokenizer\n",
        "from keras_preprocessing.sequence import pad_sequences\n",
        "from keras.utils import to_categorical, plot_model\n",
        "from keras.callbacks import EarlyStopping, ModelCheckpoint"
      ]
    },
    {
      "cell_type": "code",
      "source": [
        "df = pd.read_csv(\"/content/spam.csv\", encoding='latin-1')"
      ],
      "metadata": {
        "id": "wHpDjgySBGcc"
      },
      "execution_count": 45,
      "outputs": []
    },
    {
      "cell_type": "code",
      "source": [
        "df.head()"
      ],
      "metadata": {
        "colab": {
          "base_uri": "https://localhost:8080/",
          "height": 206
        },
        "id": "DjVznnWZBi5V",
        "outputId": "4cbcf675-6981-46d7-81ff-212814e6c1ff"
      },
      "execution_count": 46,
      "outputs": [
        {
          "output_type": "execute_result",
          "data": {
            "text/plain": [
              "     v1                                                 v2 Unnamed: 2  \\\n",
              "0   ham  Go until jurong point, crazy.. Available only ...        NaN   \n",
              "1   ham                      Ok lar... Joking wif u oni...        NaN   \n",
              "2  spam  Free entry in 2 a wkly comp to win FA Cup fina...        NaN   \n",
              "3   ham  U dun say so early hor... U c already then say...        NaN   \n",
              "4   ham  Nah I don't think he goes to usf, he lives aro...        NaN   \n",
              "\n",
              "  Unnamed: 3 Unnamed: 4  \n",
              "0        NaN        NaN  \n",
              "1        NaN        NaN  \n",
              "2        NaN        NaN  \n",
              "3        NaN        NaN  \n",
              "4        NaN        NaN  "
            ],
            "text/html": [
              "\n",
              "  <div id=\"df-85a0b625-3260-4ab5-9dc6-5d782aff3a2d\">\n",
              "    <div class=\"colab-df-container\">\n",
              "      <div>\n",
              "<style scoped>\n",
              "    .dataframe tbody tr th:only-of-type {\n",
              "        vertical-align: middle;\n",
              "    }\n",
              "\n",
              "    .dataframe tbody tr th {\n",
              "        vertical-align: top;\n",
              "    }\n",
              "\n",
              "    .dataframe thead th {\n",
              "        text-align: right;\n",
              "    }\n",
              "</style>\n",
              "<table border=\"1\" class=\"dataframe\">\n",
              "  <thead>\n",
              "    <tr style=\"text-align: right;\">\n",
              "      <th></th>\n",
              "      <th>v1</th>\n",
              "      <th>v2</th>\n",
              "      <th>Unnamed: 2</th>\n",
              "      <th>Unnamed: 3</th>\n",
              "      <th>Unnamed: 4</th>\n",
              "    </tr>\n",
              "  </thead>\n",
              "  <tbody>\n",
              "    <tr>\n",
              "      <th>0</th>\n",
              "      <td>ham</td>\n",
              "      <td>Go until jurong point, crazy.. Available only ...</td>\n",
              "      <td>NaN</td>\n",
              "      <td>NaN</td>\n",
              "      <td>NaN</td>\n",
              "    </tr>\n",
              "    <tr>\n",
              "      <th>1</th>\n",
              "      <td>ham</td>\n",
              "      <td>Ok lar... Joking wif u oni...</td>\n",
              "      <td>NaN</td>\n",
              "      <td>NaN</td>\n",
              "      <td>NaN</td>\n",
              "    </tr>\n",
              "    <tr>\n",
              "      <th>2</th>\n",
              "      <td>spam</td>\n",
              "      <td>Free entry in 2 a wkly comp to win FA Cup fina...</td>\n",
              "      <td>NaN</td>\n",
              "      <td>NaN</td>\n",
              "      <td>NaN</td>\n",
              "    </tr>\n",
              "    <tr>\n",
              "      <th>3</th>\n",
              "      <td>ham</td>\n",
              "      <td>U dun say so early hor... U c already then say...</td>\n",
              "      <td>NaN</td>\n",
              "      <td>NaN</td>\n",
              "      <td>NaN</td>\n",
              "    </tr>\n",
              "    <tr>\n",
              "      <th>4</th>\n",
              "      <td>ham</td>\n",
              "      <td>Nah I don't think he goes to usf, he lives aro...</td>\n",
              "      <td>NaN</td>\n",
              "      <td>NaN</td>\n",
              "      <td>NaN</td>\n",
              "    </tr>\n",
              "  </tbody>\n",
              "</table>\n",
              "</div>\n",
              "      <button class=\"colab-df-convert\" onclick=\"convertToInteractive('df-85a0b625-3260-4ab5-9dc6-5d782aff3a2d')\"\n",
              "              title=\"Convert this dataframe to an interactive table.\"\n",
              "              style=\"display:none;\">\n",
              "        \n",
              "  <svg xmlns=\"http://www.w3.org/2000/svg\" height=\"24px\"viewBox=\"0 0 24 24\"\n",
              "       width=\"24px\">\n",
              "    <path d=\"M0 0h24v24H0V0z\" fill=\"none\"/>\n",
              "    <path d=\"M18.56 5.44l.94 2.06.94-2.06 2.06-.94-2.06-.94-.94-2.06-.94 2.06-2.06.94zm-11 1L8.5 8.5l.94-2.06 2.06-.94-2.06-.94L8.5 2.5l-.94 2.06-2.06.94zm10 10l.94 2.06.94-2.06 2.06-.94-2.06-.94-.94-2.06-.94 2.06-2.06.94z\"/><path d=\"M17.41 7.96l-1.37-1.37c-.4-.4-.92-.59-1.43-.59-.52 0-1.04.2-1.43.59L10.3 9.45l-7.72 7.72c-.78.78-.78 2.05 0 2.83L4 21.41c.39.39.9.59 1.41.59.51 0 1.02-.2 1.41-.59l7.78-7.78 2.81-2.81c.8-.78.8-2.07 0-2.86zM5.41 20L4 18.59l7.72-7.72 1.47 1.35L5.41 20z\"/>\n",
              "  </svg>\n",
              "      </button>\n",
              "      \n",
              "  <style>\n",
              "    .colab-df-container {\n",
              "      display:flex;\n",
              "      flex-wrap:wrap;\n",
              "      gap: 12px;\n",
              "    }\n",
              "\n",
              "    .colab-df-convert {\n",
              "      background-color: #E8F0FE;\n",
              "      border: none;\n",
              "      border-radius: 50%;\n",
              "      cursor: pointer;\n",
              "      display: none;\n",
              "      fill: #1967D2;\n",
              "      height: 32px;\n",
              "      padding: 0 0 0 0;\n",
              "      width: 32px;\n",
              "    }\n",
              "\n",
              "    .colab-df-convert:hover {\n",
              "      background-color: #E2EBFA;\n",
              "      box-shadow: 0px 1px 2px rgba(60, 64, 67, 0.3), 0px 1px 3px 1px rgba(60, 64, 67, 0.15);\n",
              "      fill: #174EA6;\n",
              "    }\n",
              "\n",
              "    [theme=dark] .colab-df-convert {\n",
              "      background-color: #3B4455;\n",
              "      fill: #D2E3FC;\n",
              "    }\n",
              "\n",
              "    [theme=dark] .colab-df-convert:hover {\n",
              "      background-color: #434B5C;\n",
              "      box-shadow: 0px 1px 3px 1px rgba(0, 0, 0, 0.15);\n",
              "      filter: drop-shadow(0px 1px 2px rgba(0, 0, 0, 0.3));\n",
              "      fill: #FFFFFF;\n",
              "    }\n",
              "  </style>\n",
              "\n",
              "      <script>\n",
              "        const buttonEl =\n",
              "          document.querySelector('#df-85a0b625-3260-4ab5-9dc6-5d782aff3a2d button.colab-df-convert');\n",
              "        buttonEl.style.display =\n",
              "          google.colab.kernel.accessAllowed ? 'block' : 'none';\n",
              "\n",
              "        async function convertToInteractive(key) {\n",
              "          const element = document.querySelector('#df-85a0b625-3260-4ab5-9dc6-5d782aff3a2d');\n",
              "          const dataTable =\n",
              "            await google.colab.kernel.invokeFunction('convertToInteractive',\n",
              "                                                     [key], {});\n",
              "          if (!dataTable) return;\n",
              "\n",
              "          const docLinkHtml = 'Like what you see? Visit the ' +\n",
              "            '<a target=\"_blank\" href=https://colab.research.google.com/notebooks/data_table.ipynb>data table notebook</a>'\n",
              "            + ' to learn more about interactive tables.';\n",
              "          element.innerHTML = '';\n",
              "          dataTable['output_type'] = 'display_data';\n",
              "          await google.colab.output.renderOutput(dataTable, element);\n",
              "          const docLink = document.createElement('div');\n",
              "          docLink.innerHTML = docLinkHtml;\n",
              "          element.appendChild(docLink);\n",
              "        }\n",
              "      </script>\n",
              "    </div>\n",
              "  </div>\n",
              "  "
            ]
          },
          "metadata": {},
          "execution_count": 46
        }
      ]
    },
    {
      "cell_type": "code",
      "source": [
        "fig, ax = plt.subplots()\n",
        "sns.countplot(df.v1, ax=ax)\n",
        "ax.set_xlabel('Class')\n",
        "ax.set_title('Distribution of data')"
      ],
      "metadata": {
        "id": "DLb_FummBm7Y",
        "colab": {
          "base_uri": "https://localhost:8080/",
          "height": 367
        },
        "outputId": "e6a77167-43d4-4297-e0de-53078c2aabad"
      },
      "execution_count": 47,
      "outputs": [
        {
          "output_type": "stream",
          "name": "stderr",
          "text": [
            "/usr/local/lib/python3.7/dist-packages/seaborn/_decorators.py:43: FutureWarning: Pass the following variable as a keyword arg: x. From version 0.12, the only valid positional argument will be `data`, and passing other arguments without an explicit keyword will result in an error or misinterpretation.\n",
            "  FutureWarning\n"
          ]
        },
        {
          "output_type": "execute_result",
          "data": {
            "text/plain": [
              "Text(0.5, 1.0, 'Distribution of data')"
            ]
          },
          "metadata": {},
          "execution_count": 47
        },
        {
          "output_type": "display_data",
          "data": {
            "text/plain": [
              "<Figure size 432x288 with 1 Axes>"
            ],
            "image/png": "[encoded data removed]"
          },
          "metadata": {
            "needs_background": "light"
          }
        }
      ]
    },
    {
      "cell_type": "code",
      "source": [
        "X = df.loc[:, 'v2']\n",
        "y = df.loc[:, 'v1']\n",
        "\n",
        "X"
      ],
      "metadata": {
        "colab": {
          "base_uri": "https://localhost:8080/"
        },
        "id": "p3R-L2enFeWt",
        "outputId": "8e46c2dc-fdde-4a28-ac01-a95d53a282cd"
      },
      "execution_count": 48,
      "outputs": [
        {
          "output_type": "execute_result",
          "data": {
            "text/plain": [
              "0       Go until jurong point, crazy.. Available only ...\n",
              "1                           Ok lar... Joking wif u oni...\n",
              "2       Free entry in 2 a wkly comp to win FA Cup fina...\n",
              "3       U dun say so early hor... U c already then say...\n",
              "4       Nah I don't think he goes to usf, he lives aro...\n",
              "                              ...                        \n",
              "5567    This is the 2nd time we have tried 2 contact u...\n",
              "5568                Will Ì_ b going to esplanade fr home?\n",
              "5569    Pity, * was in mood for that. So...any other s...\n",
              "5570    The guy did some bitching but I acted like i'd...\n",
              "5571                           Rofl. Its true to its name\n",
              "Name: v2, Length: 5572, dtype: object"
            ]
          },
          "metadata": {},
          "execution_count": 48
        }
      ]
    },
    {
      "cell_type": "code",
      "source": [
        "X_train, X_test, y_train, y_test = train_test_split(X, y, test_size=0.2, random_state=42)\n",
        "\n",
        "print(X_train.shape)\n",
        "print(X_test.shape)"
      ],
      "metadata": {
        "colab": {
          "base_uri": "https://localhost:8080/"
        },
        "id": "E247IVVIFjUr",
        "outputId": "a59cfa5b-6f7e-435f-8d4b-6698faaf5c77"
      },
      "execution_count": 49,
      "outputs": [
        {
          "output_type": "stream",
          "name": "stdout",
          "text": [
            "(4457,)\n",
            "(1115,)\n"
          ]
        }
      ]
    },
    {
      "cell_type": "code",
      "source": [
        "import nltk\n",
        "nltk.download('punkt')"
      ],
      "metadata": {
        "colab": {
          "base_uri": "https://localhost:8080/"
        },
        "id": "5Nr-lUMI1Y08",
        "outputId": "1f33d123-448e-463f-e7c2-ea8947f3f498"
      },
      "execution_count": 50,
      "outputs": [
        {
          "output_type": "stream",
          "name": "stderr",
          "text": [
            "[nltk_data] Downloading package punkt to /root/nltk_data...\n",
            "[nltk_data]   Package punkt is already up-to-date!\n"
          ]
        },
        {
          "output_type": "execute_result",
          "data": {
            "text/plain": [
              "True"
            ]
          },
          "metadata": {},
          "execution_count": 50
        }
      ]
    },
    {
      "cell_type": "code",
      "source": [
        "sent_lens = []\n",
        "for sent in X_train:\n",
        "    sent_lens.append(len(word_tokenize(sent)))\n",
        "    \n",
        "print(max(sent_lens))\n",
        "print()\n",
        "\n",
        "sns.distplot(sent_lens, bins=10, kde=True)"
      ],
      "metadata": {
        "colab": {
          "base_uri": "https://localhost:8080/",
          "height": 372
        },
        "id": "tAirCMx11ZBt",
        "outputId": "ccb22ca7-f2a7-4a60-9955-559f02f68661"
      },
      "execution_count": 51,
      "outputs": [
        {
          "output_type": "stream",
          "name": "stdout",
          "text": [
            "220\n",
            "\n"
          ]
        },
        {
          "output_type": "stream",
          "name": "stderr",
          "text": [
            "/usr/local/lib/python3.7/dist-packages/seaborn/distributions.py:2619: FutureWarning: `distplot` is a deprecated function and will be removed in a future version. Please adapt your code to use either `displot` (a figure-level function with similar flexibility) or `histplot` (an axes-level function for histograms).\n",
            "  warnings.warn(msg, FutureWarning)\n"
          ]
        },
        {
          "output_type": "execute_result",
          "data": {
            "text/plain": [
              "<matplotlib.axes._subplots.AxesSubplot at 0x7f840b24f390>"
            ]
          },
          "metadata": {},
          "execution_count": 51
        },
        {
          "output_type": "display_data",
          "data": {
            "text/plain": [
              "<Figure size 432x288 with 1 Axes>"
            ],
            "image/png": "[encoded data removed]"
          },
          "metadata": {
            "needs_background": "light"
          }
        }
      ]
    },
    {
      "cell_type": "code",
      "source": [
        "np.quantile(sent_lens, 0.95)"
      ],
      "metadata": {
        "colab": {
          "base_uri": "https://localhost:8080/"
        },
        "id": "67QZ4yH41xE2",
        "outputId": "d400384e-a05f-4399-d4e8-36999f3ce524"
      },
      "execution_count": 52,
      "outputs": [
        {
          "output_type": "execute_result",
          "data": {
            "text/plain": [
              "39.0"
            ]
          },
          "metadata": {},
          "execution_count": 52
        }
      ]
    },
    {
      "cell_type": "code",
      "source": [
        "max_sequence_length = 39\n",
        "\n",
        "tok = Tokenizer()\n",
        "tok.fit_on_texts(X_train.values)\n",
        "\n",
        "vocab_length = len(tok.word_index)\n",
        "print('No. of unique tokens(vocab_size): ', vocab_length)\n",
        "\n",
        "X_train_sequences = tok.texts_to_sequences(X_train.values)\n",
        "X_test_sequences = tok.texts_to_sequences(X_test.values)\n",
        "print('No of sequences:', len(X_train_sequences))\n",
        "\n",
        "X_train = pad_sequences(X_train_sequences, maxlen=max_sequence_length)\n",
        "X_test = pad_sequences(X_test_sequences, maxlen=max_sequence_length)\n",
        "X_train[:2]"
      ],
      "metadata": {
        "colab": {
          "base_uri": "https://localhost:8080/"
        },
        "id": "a7EHt9441w6Z",
        "outputId": "fbb80836-add5-439b-c3d3-6938d1ac3a53"
      },
      "execution_count": 53,
      "outputs": [
        {
          "output_type": "stream",
          "name": "stdout",
          "text": [
            "No. of unique tokens(vocab_size):  7954\n",
            "No of sequences: 4457\n"
          ]
        },
        {
          "output_type": "execute_result",
          "data": {
            "text/plain": [
              "array([[   0,    0,    0,    0,    0,    0,    0,    0,    0,    0,    0,\n",
              "           0,    0,    0,    0,    0,    0,    0,    0,    0,   38,   30,\n",
              "           8,    5,  273, 1989,   81,  116,   26,   11, 1656,  322,   10,\n",
              "          53,   18,  299,   30,  349, 1990],\n",
              "       [   0,    0,    0,    0,    0,    0,    0,    0,    0,    0,    0,\n",
              "           0,    0,    0,    0,    0,  799,   15, 2555, 1442, 1127,  192,\n",
              "        2556,  171,   12,   98, 1991,   44,  195, 1657, 2557, 1992, 2558,\n",
              "          21,    9,    4,  203, 1025,  225]], dtype=int32)"
            ]
          },
          "metadata": {},
          "execution_count": 53
        }
      ]
    },
    {
      "cell_type": "code",
      "source": [
        "print(y_train.values)\n",
        "\n",
        "le = LabelEncoder()\n",
        "train_labels = le.fit_transform(y_train)\n",
        "test_labels = le.fit_transform(y_test)\n",
        "print(train_labels)"
      ],
      "metadata": {
        "id": "kUOpPsVLLY-7",
        "colab": {
          "base_uri": "https://localhost:8080/"
        },
        "outputId": "851fb70f-3ce6-4fb1-9e65-7f0d4741dbfb"
      },
      "execution_count": 54,
      "outputs": [
        {
          "output_type": "stream",
          "name": "stdout",
          "text": [
            "['ham' 'spam' 'ham' ... 'ham' 'ham' 'ham']\n",
            "[0 1 0 ... 0 0 0]\n"
          ]
        }
      ]
    },
    {
      "cell_type": "code",
      "source": [
        "def create_model(vocab_len, max_seq_len):\n",
        "    inputs = Input(name='inputs', shape=[max_seq_len])\n",
        "    layer = Embedding(vocab_length + 1, 50, input_length=max_seq_len)(inputs)\n",
        "    layer = LSTM(64)(layer)\n",
        "    layer = Dense(256)(layer)\n",
        "    layer = Activation('relu')(layer)\n",
        "    layer = Dropout(0.5)(layer)\n",
        "    layer = Dense(1)(layer)\n",
        "    layer = Activation('sigmoid')(layer)\n",
        "    model = Model(inputs=inputs,outputs=layer)\n",
        "    model.compile(loss='binary_crossentropy',optimizer=RMSprop(), metrics=['acc'])\n",
        "    return model\n",
        "\n",
        "model = create_model(vocab_length, max_sequence_length)\n",
        "model.summary()"
      ],
      "metadata": {
        "colab": {
          "base_uri": "https://localhost:8080/"
        },
        "id": "lcJS8IyP3SoA",
        "outputId": "ea3c243f-ceb2-441e-d9d4-33713a0b4067"
      },
      "execution_count": 55,
      "outputs": [
        {
          "output_type": "stream",
          "name": "stdout",
          "text": [
            "Model: \"model_2\"\n",
            "_________________________________________________________________\n",
            " Layer (type)                Output Shape              Param #   \n",
            "=================================================================\n",
            " inputs (InputLayer)         [(None, 39)]              0         \n",
            "                                                                 \n",
            " embedding_2 (Embedding)     (None, 39, 50)            397750    \n",
            "                                                                 \n",
            " lstm_2 (LSTM)               (None, 64)                29440     \n",
            "                                                                 \n",
            " dense_2 (Dense)             (None, 256)               16640     \n",
            "                                                                 \n",
            " activation_4 (Activation)   (None, 256)               0         \n",
            "                                                                 \n",
            " dropout_2 (Dropout)         (None, 256)               0         \n",
            "                                                                 \n",
            " dense_3 (Dense)             (None, 1)                 257       \n",
            "                                                                 \n",
            " activation_5 (Activation)   (None, 1)                 0         \n",
            "                                                                 \n",
            "=================================================================\n",
            "Total params: 444,087\n",
            "Trainable params: 444,087\n",
            "Non-trainable params: 0\n",
            "_________________________________________________________________\n"
          ]
        }
      ]
    },
    {
      "cell_type": "code",
      "source": [
        "filepath='model_with_best_weights.h5'\n",
        "\n",
        "callbacks = [EarlyStopping(monitor='val_loss', patience=5, verbose=1),\n",
        "             ModelCheckpoint(filepath=filepath, monitor='val_loss', save_best_only=True, verbose=1),]\n",
        "\n",
        "history = model.fit(X_train, train_labels, batch_size=128, epochs=20, validation_split=0.2, callbacks=callbacks)"
      ],
      "metadata": {
        "colab": {
          "base_uri": "https://localhost:8080/"
        },
        "id": "kD34s0Tm3Z3B",
        "outputId": "273d9ac9-9e90-4ae2-d3c3-48ffbff5ade1"
      },
      "execution_count": 56,
      "outputs": [
        {
          "output_type": "stream",
          "name": "stdout",
          "text": [
            "Epoch 1/20\n",
            "28/28 [==============================] - ETA: 0s - loss: 0.3195 - acc: 0.8729\n",
            "Epoch 1: val_loss improved from inf to 0.15277, saving model to model_with_best_weights.h5\n",
            "28/28 [==============================] - 7s 100ms/step - loss: 0.3195 - acc: 0.8729 - val_loss: 0.1528 - val_acc: 0.9585\n",
            "Epoch 2/20\n",
            "28/28 [==============================] - ETA: 0s - loss: 0.0893 - acc: 0.9787\n",
            "Epoch 2: val_loss improved from 0.15277 to 0.05509, saving model to model_with_best_weights.h5\n",
            "28/28 [==============================] - 2s 78ms/step - loss: 0.0893 - acc: 0.9787 - val_loss: 0.0551 - val_acc: 0.9809\n",
            "Epoch 3/20\n",
            "28/28 [==============================] - ETA: 0s - loss: 0.0333 - acc: 0.9910\n",
            "Epoch 3: val_loss did not improve from 0.05509\n",
            "28/28 [==============================] - 2s 76ms/step - loss: 0.0333 - acc: 0.9910 - val_loss: 0.0608 - val_acc: 0.9821\n",
            "Epoch 4/20\n",
            "28/28 [==============================] - ETA: 0s - loss: 0.0162 - acc: 0.9952\n",
            "Epoch 4: val_loss improved from 0.05509 to 0.04632, saving model to model_with_best_weights.h5\n",
            "28/28 [==============================] - 2s 76ms/step - loss: 0.0162 - acc: 0.9952 - val_loss: 0.0463 - val_acc: 0.9854\n",
            "Epoch 5/20\n",
            "28/28 [==============================] - ETA: 0s - loss: 0.0099 - acc: 0.9966\n",
            "Epoch 5: val_loss improved from 0.04632 to 0.04516, saving model to model_with_best_weights.h5\n",
            "28/28 [==============================] - 2s 78ms/step - loss: 0.0099 - acc: 0.9966 - val_loss: 0.0452 - val_acc: 0.9843\n",
            "Epoch 6/20\n",
            "28/28 [==============================] - ETA: 0s - loss: 0.0040 - acc: 0.9992\n",
            "Epoch 6: val_loss did not improve from 0.04516\n",
            "28/28 [==============================] - 2s 76ms/step - loss: 0.0040 - acc: 0.9992 - val_loss: 0.0604 - val_acc: 0.9888\n",
            "Epoch 7/20\n",
            "28/28 [==============================] - ETA: 0s - loss: 0.0012 - acc: 0.9997\n",
            "Epoch 7: val_loss did not improve from 0.04516\n",
            "28/28 [==============================] - 2s 75ms/step - loss: 0.0012 - acc: 0.9997 - val_loss: 0.0687 - val_acc: 0.9888\n",
            "Epoch 8/20\n",
            "28/28 [==============================] - ETA: 0s - loss: 0.0012 - acc: 0.9994\n",
            "Epoch 8: val_loss did not improve from 0.04516\n",
            "28/28 [==============================] - 2s 79ms/step - loss: 0.0012 - acc: 0.9994 - val_loss: 0.0852 - val_acc: 0.9865\n",
            "Epoch 9/20\n",
            "28/28 [==============================] - ETA: 0s - loss: 7.2068e-05 - acc: 1.0000\n",
            "Epoch 9: val_loss did not improve from 0.04516\n",
            "28/28 [==============================] - 2s 83ms/step - loss: 7.2068e-05 - acc: 1.0000 - val_loss: 0.0851 - val_acc: 0.9888\n",
            "Epoch 10/20\n",
            "28/28 [==============================] - ETA: 0s - loss: 1.3965e-05 - acc: 1.0000\n",
            "Epoch 10: val_loss did not improve from 0.04516\n",
            "28/28 [==============================] - 2s 80ms/step - loss: 1.3965e-05 - acc: 1.0000 - val_loss: 0.1013 - val_acc: 0.9877\n",
            "Epoch 10: early stopping\n"
          ]
        }
      ]
    },
    {
      "cell_type": "code",
      "source": [
        "history_dict = history.history\n",
        "\n",
        "plt.plot(history_dict['loss'])\n",
        "plt.plot(history_dict['val_loss'])\n",
        "plt.title('Training and Validation Loss')\n",
        "plt.ylabel('loss')\n",
        "plt.xlabel('epoch')\n",
        "plt.legend(['train', 'test'], loc='upper left')\n",
        "plt.show()\n",
        "\n",
        "plt.plot(history_dict['acc'])\n",
        "plt.plot(history_dict['val_acc'])\n",
        "plt.title('Training and Validation Accuracy')\n",
        "plt.ylabel('accuracy')\n",
        "plt.xlabel('epoch')\n",
        "plt.legend(['train', 'test'], loc='upper left')\n",
        "plt.show()"
      ],
      "metadata": {
        "colab": {
          "base_uri": "https://localhost:8080/",
          "height": 573
        },
        "id": "vOQG7g5C3kLG",
        "outputId": "bcf66a78-7caa-49f3-a316-5e372402cf2b"
      },
      "execution_count": 57,
      "outputs": [
        {
          "output_type": "display_data",
          "data": {
            "text/plain": [
              "<Figure size 432x288 with 1 Axes>"
            ],
            "image/png": "[encoded data removed]"
          },
          "metadata": {
            "needs_background": "light"
          }
        },
        {
          "output_type": "display_data",
          "data": {
            "text/plain": [
              "<Figure size 432x288 with 1 Axes>"
            ],
            "image/png": "[encoded data removed]"
          },
          "metadata": {
            "needs_background": "light"
          }
        }
      ]
    },
    {
      "cell_type": "code",
      "source": [
        "loaded_model = load_model('model_with_best_weights.h5')\n",
        "test_loss, test_acc = accr = loaded_model.evaluate(X_test, test_labels)\n",
        "print('Test set\\n  Loss: {:0.3f}\\n  Accuracy: {:0.3f}'.format(test_loss, test_acc))"
      ],
      "metadata": {
        "colab": {
          "base_uri": "https://localhost:8080/"
        },
        "id": "hGGl_NJ53re7",
        "outputId": "4524abeb-cde9-4e62-a670-11857ce79aec"
      },
      "execution_count": 58,
      "outputs": [
        {
          "output_type": "stream",
          "name": "stdout",
          "text": [
            "35/35 [==============================] - 1s 7ms/step - loss: 0.0520 - acc: 0.9857\n",
            "Test set\n",
            "  Loss: 0.052\n",
            "  Accuracy: 0.986\n"
          ]
        }
      ]
    },
    {
      "cell_type": "code",
      "source": [
        "y_pred_proba = loaded_model.predict(X_test)\n",
        "\n",
        "print(np.round(y_pred_proba, 3))\n",
        "\n",
        "y_pred = y_pred_proba > 0.5\n",
        "y_pred"
      ],
      "metadata": {
        "colab": {
          "base_uri": "https://localhost:8080/"
        },
        "id": "C7EPT3Wx3txM",
        "outputId": "9b0dfcde-a2d3-48b8-88f1-3d842a47a892"
      },
      "execution_count": 59,
      "outputs": [
        {
          "output_type": "stream",
          "name": "stdout",
          "text": [
            "35/35 [==============================] - 1s 8ms/step\n",
            "[[0.911]\n",
            " [0.002]\n",
            " [0.991]\n",
            " ...\n",
            " [0.001]\n",
            " [0.002]\n",
            " [0.998]]\n"
          ]
        },
        {
          "output_type": "execute_result",
          "data": {
            "text/plain": [
              "array([[ True],\n",
              "       [False],\n",
              "       [ True],\n",
              "       ...,\n",
              "       [False],\n",
              "       [False],\n",
              "       [ True]])"
            ]
          },
          "metadata": {},
          "execution_count": 59
        }
      ]
    },
    {
      "cell_type": "code",
      "source": [],
      "metadata": {
        "id": "RciuaCvZ5Qhn"
      },
      "execution_count": 59,
      "outputs": []
    }
  ]
}