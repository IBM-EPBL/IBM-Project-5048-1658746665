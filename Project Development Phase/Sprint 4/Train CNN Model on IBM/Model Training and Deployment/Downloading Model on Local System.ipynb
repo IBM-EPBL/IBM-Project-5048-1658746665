{
 "cells": [
  {
   "cell_type": "code",
   "execution_count": 4,
   "id": "06b00884",
   "metadata": {},
   "outputs": [
    {
     "name": "stdout",
     "output_type": "stream",
     "text": [
      "Requirement already satisfied: ibm_watson_machine_learning in c:\\users\\keerthana\\appdata\\local\\programs\\python\\python310\\lib\\site-packages (1.0.257)\n",
      "Requirement already satisfied: urllib3 in c:\\users\\keerthana\\appdata\\local\\programs\\python\\python310\\lib\\site-packages (from ibm_watson_machine_learning) (1.26.9)\n",
      "Requirement already satisfied: tabulate in c:\\users\\keerthana\\appdata\\local\\programs\\python\\python310\\lib\\site-packages (from ibm_watson_machine_learning) (0.9.0)\n",
      "Requirement already satisfied: requests in c:\\users\\keerthana\\appdata\\local\\programs\\python\\python310\\lib\\site-packages (from ibm_watson_machine_learning) (2.27.1)\n",
      "Requirement already satisfied: importlib-metadata in c:\\users\\keerthana\\appdata\\local\\programs\\python\\python310\\lib\\site-packages (from ibm_watson_machine_learning) (4.11.3)\n",
      "Requirement already satisfied: lomond in c:\\users\\keerthana\\appdata\\local\\programs\\python\\python310\\lib\\site-packages (from ibm_watson_machine_learning) (0.3.3)\n",
      "Requirement already satisfied: ibm-cos-sdk==2.12.* in c:\\users\\keerthana\\appdata\\local\\programs\\python\\python310\\lib\\site-packages (from ibm_watson_machine_learning) (2.12.0)\n",
      "Requirement already satisfied: pandas<1.5.0,>=0.24.2 in c:\\users\\keerthana\\appdata\\roaming\\python\\python310\\site-packages (from ibm_watson_machine_learning) (1.4.2)\n",
      "Requirement already satisfied: packaging in c:\\users\\keerthana\\appdata\\local\\programs\\python\\python310\\lib\\site-packages (from ibm_watson_machine_learning) (21.3)\n",
      "Requirement already satisfied: certifi in c:\\users\\keerthana\\appdata\\local\\programs\\python\\python310\\lib\\site-packages (from ibm_watson_machine_learning) (2021.10.8)\n",
      "Requirement already satisfied: ibm-cos-sdk-s3transfer==2.12.0 in c:\\users\\keerthana\\appdata\\local\\programs\\python\\python310\\lib\\site-packages (from ibm-cos-sdk==2.12.*->ibm_watson_machine_learning) (2.12.0)\n",
      "Requirement already satisfied: jmespath<1.0.0,>=0.10.0 in c:\\users\\keerthana\\appdata\\local\\programs\\python\\python310\\lib\\site-packages (from ibm-cos-sdk==2.12.*->ibm_watson_machine_learning) (0.10.0)\n",
      "Requirement already satisfied: ibm-cos-sdk-core==2.12.0 in c:\\users\\keerthana\\appdata\\local\\programs\\python\\python310\\lib\\site-packages (from ibm-cos-sdk==2.12.*->ibm_watson_machine_learning) (2.12.0)\n",
      "Requirement already satisfied: python-dateutil<3.0.0,>=2.8.2 in c:\\users\\keerthana\\appdata\\roaming\\python\\python310\\site-packages (from ibm-cos-sdk-core==2.12.0->ibm-cos-sdk==2.12.*->ibm_watson_machine_learning) (2.8.2)\n",
      "Requirement already satisfied: numpy>=1.21.0 in c:\\users\\keerthana\\appdata\\local\\programs\\python\\python310\\lib\\site-packages (from pandas<1.5.0,>=0.24.2->ibm_watson_machine_learning) (1.21.6)\n",
      "Requirement already satisfied: pytz>=2020.1 in c:\\users\\keerthana\\appdata\\roaming\\python\\python310\\site-packages (from pandas<1.5.0,>=0.24.2->ibm_watson_machine_learning) (2022.1)\n",
      "Requirement already satisfied: charset-normalizer~=2.0.0 in c:\\users\\keerthana\\appdata\\local\\programs\\python\\python310\\lib\\site-packages (from requests->ibm_watson_machine_learning) (2.0.12)\n",
      "Requirement already satisfied: idna<4,>=2.5 in c:\\users\\keerthana\\appdata\\local\\programs\\python\\python310\\lib\\site-packages (from requests->ibm_watson_machine_learning) (3.3)\n",
      "Requirement already satisfied: zipp>=0.5 in c:\\users\\keerthana\\appdata\\local\\programs\\python\\python310\\lib\\site-packages (from importlib-metadata->ibm_watson_machine_learning) (3.7.0)\n",
      "Requirement already satisfied: six>=1.10.0 in c:\\users\\keerthana\\appdata\\roaming\\python\\python310\\site-packages (from lomond->ibm_watson_machine_learning) (1.16.0)\n",
      "Requirement already satisfied: pyparsing!=3.0.5,>=2.0.2 in c:\\users\\keerthana\\appdata\\local\\programs\\python\\python310\\lib\\site-packages (from packaging->ibm_watson_machine_learning) (3.0.7)\n"
     ]
    }
   ],
   "source": [
    "!pip install ibm_watson_machine_learning"
   ]
  },
  {
   "cell_type": "code",
   "execution_count": 5,
   "id": "2347e4dc",
   "metadata": {},
   "outputs": [],
   "source": [
    "from ibm_watson_machine_learning import APIClient"
   ]
  },
  {
   "cell_type": "code",
   "execution_count": 6,
   "id": "0ac9ff56",
   "metadata": {},
   "outputs": [],
   "source": [
    "wml_credentials = {\n",
    "    \"url\": \"https://us-south.ml.cloud.ibm.com\",\n",
    "    \"apikey\": \"ChIkpkbcs--Hrju5LZSVzaEK-4HxxXYXSUez9G6VNuP6\"\n",
    "}"
   ]
  },
  {
   "cell_type": "code",
   "execution_count": 7,
   "id": "4187fd0b",
   "metadata": {},
   "outputs": [],
   "source": [
    "client = APIClient(wml_credentials)"
   ]
  },
  {
   "cell_type": "code",
   "execution_count": 10,
   "id": "19886d77",
   "metadata": {},
   "outputs": [
    {
     "name": "stdout",
     "output_type": "stream",
     "text": [
      "Note: 'limit' is not provided. Only first 50 records will be displayed if the number of records exceed 50\n",
      "------------------------------------  -------------------------  ------------------------\n",
      "ID                                    NAME                       CREATED\n",
      "11f2d9ff-4100-4f35-a236-3cc9706e0a79  arrhythmia_classification  2022-11-19T20:37:17.381Z\n",
      "------------------------------------  -------------------------  ------------------------\n"
     ]
    }
   ],
   "source": [
    "client.spaces.list()"
   ]
  },
  {
   "cell_type": "code",
   "execution_count": 11,
   "id": "9f715305",
   "metadata": {},
   "outputs": [],
   "source": [
    "space_id = \"11f2d9ff-4100-4f35-a236-3cc9706e0a79\""
   ]
  },
  {
   "cell_type": "code",
   "execution_count": 12,
   "id": "7637abfe",
   "metadata": {},
   "outputs": [
    {
     "data": {
      "text/plain": [
       "'SUCCESS'"
      ]
     },
     "execution_count": 12,
     "metadata": {},
     "output_type": "execute_result"
    }
   ],
   "source": [
    "client.set.default_space(space_id)"
   ]
  },
  {
   "cell_type": "code",
   "execution_count": 9,
   "id": "60317745",
   "metadata": {},
   "outputs": [],
   "source": [
    "model_id = '2f7b57cc-ba9e-49a8-b851-23b7290c18b3'"
   ]
  },
  {
   "cell_type": "code",
   "execution_count": 13,
   "id": "8854e732",
   "metadata": {},
   "outputs": [
    {
     "name": "stdout",
     "output_type": "stream",
     "text": [
      "Successfully saved model content to file: 'arrhythmia_classification.tgz'\n"
     ]
    },
    {
     "data": {
      "text/plain": [
       "'C:\\\\Users\\\\Keerthana\\\\Downloads/arrhythmia_classification.tgz'"
      ]
     },
     "execution_count": 13,
     "metadata": {},
     "output_type": "execute_result"
    }
   ],
   "source": [
    "client.repository.download(model_id, 'arrhythmia_classification.tgz')"
   ]
  },
  {
   "cell_type": "code",
   "execution_count": null,
   "id": "c67e80bb",
   "metadata": {},
   "outputs": [],
   "source": []
  }
 ],
 "metadata": {
  "kernelspec": {
   "display_name": "Python 3 (ipykernel)",
   "language": "python",
   "name": "python3"
  },
  "language_info": {
   "codemirror_mode": {
    "name": "ipython",
    "version": 3
   },
   "file_extension": ".py",
   "mimetype": "text/x-python",
   "name": "python",
   "nbconvert_exporter": "python",
   "pygments_lexer": "ipython3",
   "version": "3.10.2"
  }
 },
 "nbformat": 4,
 "nbformat_minor": 5
}
